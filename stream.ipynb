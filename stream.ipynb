{
 "cells": [
  {
   "cell_type": "code",
   "execution_count": 7,
   "metadata": {},
   "outputs": [],
   "source": [
    "import pandas as pd\n",
    "\n",
    "# Define the data\n",
    "data = {\n",
    "    'course_id': [1, 2, 3, 4, 5, 6, 7, 8],\n",
    "    'course_name': [\n",
    "        'Introduction to Python', 'Advanced Python', 'Data Science with Python', \n",
    "        'Machine Learning', 'Web Development with Django', 'React for Beginners', \n",
    "        'Deep Learning', 'Data Visualization'\n",
    "    ],\n",
    "    'category': [\n",
    "        'Programming', 'Programming', 'Data Science', 'Data Science', \n",
    "        'Web Development', 'Web Development', 'Data Science', 'Data Science'\n",
    "    ],\n",
    "    'difficulty': [\n",
    "        'Beginner', 'Advanced', 'Intermediate', 'Advanced', \n",
    "        'Beginner', 'Beginner', 'Advanced', 'Intermediate'\n",
    "    ],\n",
    "    'rating': [4.5, 4.7, 4.6, 4.8, 4.4, 4.5, 4.7, 4.5]\n",
    "}\n",
    "\n",
    "# Create a DataFrame and save it to CSV\n",
    "df = pd.DataFrame(data)\n",
    "df.to_csv('courses.csv', index=False)\n"
   ]
  },
  {
   "cell_type": "code",
   "execution_count": 9,
   "metadata": {},
   "outputs": [
    {
     "name": "stdout",
     "output_type": "stream",
     "text": [
      "Overwriting app.py\n"
     ]
    }
   ],
   "source": [
    "%%writefile app.py\n",
    "import streamlit as st\n",
    "import pandas as pd\n",
    "\n",
    "# Load course data\n",
    "@st.cache_data\n",
    "def load_data():\n",
    "    data = pd.read_csv('courses.csv')\n",
    "    return data\n",
    "\n",
    "data = load_data()\n",
    "\n",
    "# Sidebar for user input\n",
    "st.sidebar.header(\"User Input Features\")\n",
    "\n",
    "# Collect user preferences\n",
    "category = st.sidebar.selectbox(\"Category\", options=data['category'].unique())\n",
    "difficulty = st.sidebar.selectbox(\"Difficulty\", options=data['difficulty'].unique())\n",
    "rating = st.sidebar.slider(\"Minimum Rating\", min_value=0.0, max_value=5.0, value=4.0, step=0.1)\n",
    "\n",
    "# Filter data based on user input\n",
    "filtered_data = data[\n",
    "    (data['category'] == category) &\n",
    "    (data['difficulty'] == difficulty) &\n",
    "    (data['rating'] >= rating)\n",
    "]\n",
    "\n",
    "# Display filtered data\n",
    "st.header(\"Recommended Courses\")\n",
    "st.write(f\"Based on your preferences, we found {len(filtered_data)} courses:\")\n",
    "st.dataframe(filtered_data)\n",
    "\n",
    "# Display course details\n",
    "for index, row in filtered_data.iterrows():\n",
    "    st.subheader(f\"{row['course_name']}\")\n",
    "    st.write(f\"Category: {row['category']}\")\n",
    "    st.write(f\"Difficulty: {row['difficulty']}\")\n",
    "    st.write(f\"Rating: {row['rating']}\")\n"
   ]
  }
 ],
 "metadata": {
  "kernelspec": {
   "display_name": "myenv",
   "language": "python",
   "name": "python3"
  },
  "language_info": {
   "codemirror_mode": {
    "name": "ipython",
    "version": 3
   },
   "file_extension": ".py",
   "mimetype": "text/x-python",
   "name": "python",
   "nbconvert_exporter": "python",
   "pygments_lexer": "ipython3",
   "version": "3.12.4"
  }
 },
 "nbformat": 4,
 "nbformat_minor": 2
}
